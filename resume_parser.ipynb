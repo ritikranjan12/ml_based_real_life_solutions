{
  "nbformat": 4,
  "nbformat_minor": 0,
  "metadata": {
    "colab": {
      "name": "resume parser.ipynb",
      "provenance": [],
      "authorship_tag": "ABX9TyNNeOA0gIZMWcxSgqS8cbu5",
      "include_colab_link": true
    },
    "kernelspec": {
      "name": "python3",
      "display_name": "Python 3"
    },
    "language_info": {
      "name": "python"
    }
  },
  "cells": [
    {
      "cell_type": "markdown",
      "metadata": {
        "id": "view-in-github",
        "colab_type": "text"
      },
      "source": [
        "<a href=\"https://colab.research.google.com/github/ritikranjan12/ml_based_real_life_solutions/blob/main/resume_parser.ipynb\" target=\"_parent\"><img src=\"https://colab.research.google.com/assets/colab-badge.svg\" alt=\"Open In Colab\"/></a>"
      ]
    },
    {
      "cell_type": "code",
      "source": [
        "# Author : Ritik Ranjan\n",
        "# follow me on github if you like the code\n",
        "\n",
        "!pip install pyresparser\n",
        "# !python -m spacy en_core_web_sm \n",
        "!python -m nltk.downloader words\n",
        "!python -m nltk.downloader stopwords\n",
        "from pyresparser import ResumeParser\n",
        "import pandas as pd\n",
        "import os\n",
        "\n"
      ],
      "metadata": {
        "id": "DxhwYfn-sp4l"
      },
      "execution_count": null,
      "outputs": []
    },
    {
      "cell_type": "markdown",
      "source": [
        "# New Section"
      ],
      "metadata": {
        "id": "zrfSPFLquGCB"
      }
    },
    {
      "cell_type": "code",
      "source": [
        "ans = []\n",
        "for root, dirs, files in os.walk(os.path.abspath(\"/content/directory-name\")):\n",
        "  for file in files:\n",
        "    data = ResumeParser(os.path.join(root,file)).get_extracted_data()\n",
        "    list = []\n",
        "    list.append(data['name'])\n",
        "    list.append(data['email'])\n",
        "    list.append(data['experience'])\n",
        "    list.append(data['skills'])\n",
        "    list.append(data['degree'])\n",
        "    list.append(data['mobile_number'])\n",
        "    df = pd.DataFrame(list).T\n",
        "    df.columns = ['Name','Email','Experience','skills','Degree','Mobile Number']\n",
        "    ans.append(df)\n",
        "result = pd.concat(ans)\n",
        "result.to_csv('res.csv',index=False)"
      ],
      "metadata": {
        "id": "-mTXtijqDDCa"
      },
      "execution_count": null,
      "outputs": []
    },
    {
      "cell_type": "code",
      "source": [
        ""
      ],
      "metadata": {
        "id": "cTzryDavRENL"
      },
      "execution_count": null,
      "outputs": []
    }
  ]
}